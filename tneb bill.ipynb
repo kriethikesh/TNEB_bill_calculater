{
  "nbformat": 4,
  "nbformat_minor": 0,
  "metadata": {
    "colab": {
      "provenance": []
    },
    "kernelspec": {
      "name": "python3",
      "display_name": "Python 3"
    },
    "language_info": {
      "name": "python"
    }
  },
  "cells": [
    {
      "cell_type": "code",
      "execution_count": 2,
      "metadata": {
        "id": "DhOHYDK4JNzO"
      },
      "outputs": [],
      "source": [
        "def calculate_electricity_bill(units):\n",
        "    \"\"\"\n",
        "    This function takes in the number of units consumed and calculates the electricity bill based on the\n",
        "    TNEB tariff rates.\n",
        "    \"\"\"\n",
        "    # Define the tariff rates\n",
        "    rate_per_unit = 0\n",
        "    if units <= 100:\n",
        "        rate_per_unit = 1.50\n",
        "    elif units <= 200:\n",
        "        rate_per_unit = 2.50\n",
        "    elif units <= 500:\n",
        "        rate_per_unit = 3.50\n",
        "    else:\n",
        "        rate_per_unit = 4.50\n",
        "    \n",
        "    # Calculate the total bill amount\n",
        "    fixed_charge = 30  # Fixed charge for all categories\n",
        "    energy_charge = units * rate_per_unit\n",
        "    total_bill = fixed_charge + energy_charge\n",
        "    \n",
        "    return total_bill\n",
        "\n"
      ]
    },
    {
      "cell_type": "code",
      "source": [
        "units_consumed = 1000\n",
        "bill_amount = calculate_electricity_bill(units_consumed)\n",
        "print(f\"The electricity bill for {units_consumed} units is Rs. {bill_amount:.2f}\")"
      ],
      "metadata": {
        "colab": {
          "base_uri": "https://localhost:8080/"
        },
        "id": "YItxWRurJrMg",
        "outputId": "bea26d74-0bfa-4fb7-ad46-fcf116b0971e"
      },
      "execution_count": 3,
      "outputs": [
        {
          "output_type": "stream",
          "name": "stdout",
          "text": [
            "The electricity bill for 1000 units is Rs. 4530.00\n"
          ]
        }
      ]
    },
    {
      "cell_type": "code",
      "source": [
        "units_consumed =252\n",
        "bill_amount = calculate_electricity_bill(units_consumed)\n",
        "print(f\"The electricity bill for {units_consumed} units is Rs. {bill_amount:.2f}\")"
      ],
      "metadata": {
        "colab": {
          "base_uri": "https://localhost:8080/"
        },
        "id": "FcoKUemlJ4pP",
        "outputId": "bd3a9000-19fb-4879-f4c3-4cb9388dff73"
      },
      "execution_count": 4,
      "outputs": [
        {
          "output_type": "stream",
          "name": "stdout",
          "text": [
            "The electricity bill for 252 units is Rs. 912.00\n"
          ]
        }
      ]
    }
  ]
}